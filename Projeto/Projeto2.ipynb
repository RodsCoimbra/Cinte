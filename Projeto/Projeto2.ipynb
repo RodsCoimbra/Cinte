{
 "cells": [
  {
   "cell_type": "code",
   "execution_count": 1,
   "metadata": {
    "tags": []
   },
   "outputs": [
    {
     "name": "stdout",
     "output_type": "stream",
     "text": [
      "  ____  __  _  _  ____  ____  _  _  __   \n",
      " / ___)(  )( \\/ )(  _ \\(  __)/ )( \\(  ) v2.11.0 \n",
      " \\___ \\ )( / \\/ \\ ) __/ ) _) ) \\/ (/ (_/\\ \n",
      " (____/(__)\\_)(_/(__)  (__)  \\____/\\____/\n",
      "\n",
      " Created by Marco S. Nobile (m.s.nobile@tue.nl)\n",
      " and Simone Spolaor (simone.spolaor@unimib.it)\n",
      "\n",
      "  ____  __  _  _  ____  ____  _  _  __   \n",
      " / ___)(  )( \\/ )(  _ \\(  __)/ )( \\(  ) v2.11.0 \n",
      " \\___ \\ )( / \\/ \\ ) __/ ) _) ) \\/ (/ (_/\\ \n",
      " (____/(__)\\_)(_/(__)  (__)  \\____/\\____/\n",
      "\n",
      " Created by Marco S. Nobile (m.s.nobile@tue.nl)\n",
      " and Simone Spolaor (simone.spolaor@unimib.it)\n",
      "\n"
     ]
    }
   ],
   "source": [
    "import pandas as pd\n",
    "import numpy as np\n",
    "from simpful import *\n",
    "import matplotlib.pyplot as plt\n",
    "FS = FuzzySystem()\n",
    "FS1 = FuzzySystem()\n",
    "df = pd.read_csv('ACI23-24_Proj1_SampleData.csv', sep = ',', decimal = '.')"
   ]
  },
  {
   "cell_type": "code",
   "execution_count": null,
   "metadata": {},
   "outputs": [],
   "source": [
    "Nomes = df.columns\n",
    "plt.figure(figsize=(16, 5))\n",
    "for i, name in enumerate(Nomes[:6]):\n",
    "    plt.scatter(np.full(df[name].size,i), df[name])\n",
    "plt.ylim(0, 1.1)\n",
    "plt.xticks(np.arange(6), Nomes[:6])\n",
    "plt.show()"
   ]
  },
  {
   "cell_type": "code",
   "execution_count": null,
   "metadata": {},
   "outputs": [],
   "source": [
    "plt.figure(figsize=(16, 7))\n",
    "for i in range(0,6):\n",
    "    plt.subplot(2, 3, i+1)\n",
    "    for j in range(0,df[Nomes[i]].size):\n",
    "        plt.scatter(df[\"CLPVariation\"][j], df[Nomes[i]][j])\n",
    "    plt.title(Nomes[i])\n",
    "    plt.plot([-1, 1], [0.4, 0.4], 'b--', [-1, 1], [0.8, 0.80], 'r--')\n",
    "    plt.ylim(0, 1.1)\n",
    "plt.show()"
   ]
  },
  {
   "cell_type": "code",
   "execution_count": null,
   "metadata": {},
   "outputs": [],
   "source": [
    "plt.figure(figsize=(16, 5))\n",
    "for i, name in enumerate(Nomes[6:-1]):\n",
    "    plt.scatter(np.full(df[name].size,i), df[name])\n",
    "plt.ylim(0, 1.1)\n",
    "plt.xticks(np.arange(6), Nomes[6:-1])\n",
    "plt.show()"
   ]
  },
  {
   "cell_type": "markdown",
   "metadata": {},
   "source": [
    "A escala do y está ampliada de forma a notar-se diferença"
   ]
  },
  {
   "cell_type": "code",
   "execution_count": null,
   "metadata": {},
   "outputs": [],
   "source": [
    "plt.figure(figsize=(16, 7))\n",
    "for i in range(6,Nomes.size-1):\n",
    "    plt.subplot(2, 3, i-5)\n",
    "    for j in range(0,df[Nomes[i]].size):\n",
    "        plt.scatter(df[\"CLPVariation\"][j], df[Nomes[i]][j])\n",
    "    plt.title(Nomes[i])\n",
    "    plt.ylim(0.25,0.7) #MUDAR SE QUISER VER O TAMANHO REAL\n",
    "    #plt.plot([-1, 1], [0.25, 0.25], 'b--', [-1, 1], [0.7, 0.7], 'r--')\n",
    "plt.show()"
   ]
  },
  {
   "cell_type": "code",
   "execution_count": null,
   "metadata": {},
   "outputs": [],
   "source": [
    "df.std()"
   ]
  },
  {
   "cell_type": "code",
   "execution_count": null,
   "metadata": {},
   "outputs": [],
   "source": [
    "df.mean()"
   ]
  },
  {
   "cell_type": "code",
   "execution_count": null,
   "metadata": {},
   "outputs": [],
   "source": [
    "df.corr()"
   ]
  },
  {
   "cell_type": "code",
   "execution_count": 2,
   "metadata": {
    "tags": []
   },
   "outputs": [],
   "source": [
    "Lat_1 = TrapezoidFuzzySet(0.4, 0.7, 1,1, term= 'High')\n",
    "Lat_2 = TrapezoidFuzzySet(0, 0, 0.3, 0.6, term= 'Low')\n",
    "FS1.add_linguistic_variable(\"Latency\", LinguisticVariable([Lat_1, Lat_2], universe_of_discourse=[0, 1]))\n",
    "Memory1 = TrapezoidFuzzySet(0, 0, 0.6, 0.7, term=\"Good\")\n",
    "Memory2 = TrapezoidFuzzySet(0.6, 0.7, 1, 1, term=\"Full\")\n",
    "FS1.add_linguistic_variable(\"MemoryUsage\", LinguisticVariable([Memory1, Memory2], universe_of_discourse=[0, 1]))\n",
    "OutB_1 = TrapezoidFuzzySet(0.5, 0.8, 1,1, term= 'High')\n",
    "OutB_2 = TrapezoidFuzzySet(0, 0, 0.4, 0.7, term= 'Low')\n",
    "FS1.add_linguistic_variable(\"OutBandwidth\", LinguisticVariable([OutB_1, OutB_2], universe_of_discourse=[0, 1]))\n",
    "Fuzzy1 = AutoTriangle(3, terms=[\"Low\", \"Medim\", \"High\" ], universe_of_discourse=[0,1])\n",
    "FS1.add_linguistic_variable(\"Fuzzy1\", Fuzzy1)\n",
    "FS1.add_rules([\"IF (MemoryUsage IS Good) AND (OutBandwidth IS Low) THEN (Fuzzy1 IS Low)\",\n",
    "\"IF (Latency IS High) AND (MemoryUsage IS Good) AND (OutBandwidth IS High) THEN (Fuzzy1 IS Low)\",\n",
    "\"IF (Latency IS Low) AND (MemoryUsage IS Good) AND (OutBandwidth IS High) THEN (Fuzzy1 IS Medium)\",\n",
    "\"IF (MemoryUsage IS Full) AND (OutBandwidth IS Low) THEN (Fuzzy1 IS Medium)\",\n",
    "\"IF (MemoryUsage IS Full) AND (OutBandwidth IS High) THEN (Fuzzy1 IS High)\"])\n"
   ]
  },
  {
   "cell_type": "code",
   "execution_count": 10,
   "metadata": {},
   "outputs": [
    {
     "name": "stdout",
     "output_type": "stream",
     "text": [
      "<Linguistic variable 'N/A', contains fuzzy sets [<Fuzzy set (function), term='Low'>, <Fuzzy set (function), term='Medim'>, <Fuzzy set (function), term='High'>], universe of discourse: [0, 1]>\n"
     ]
    }
   ],
   "source": [
    "CPU1 = TriangleFuzzySet(0, 0, 0.55, term=\"Low\")\n",
    "CPU2 = TriangleFuzzySet(0.35, 0.5, 0.7, term=\"Medium\")\n",
    "CPU3 = TrapezoidFuzzySet(0.6, 0.90, 1,1, term=\"High\")\n",
    "FS.add_linguistic_variable(\"ProcessorLoad\", LinguisticVariable([CPU1, CPU2, CPU3], universe_of_discourse=[0, 1]))\n",
    "FS.add_linguistic_variable(\"Fuzzy1\", Fuzzy1)\n",
    "FS1.set_variable(\"Latency\", 0.1)\n",
    "FS1.set_variable(\"OutBandwidth\", 0.5)\n",
    "FS1.set_variable(\"MemoryUsage\", 0.5)\n",
    "FS.set_variable(Fuzzy1, FS1.inference()['Fuzzy1'])\n",
    "CLP = AutoTriangle(5, terms=[\"Decreased\", \"Marginal Decrease\", \"Maintain\", \"Marginal Increase\", \"Increase\" ], universe_of_discourse=[-1,1])\n",
    "FS.add_linguistic_variable(\"CLPVariation\", CLP)\n",
    "#FS.produce_figure()\n",
    "\n",
    "\n",
    "FS.add_rules([\"IF ProcessorLoad IS Low THEN CLPVariation IS Increase\", \n",
    "              \"IF ProcessorLoad IS Medium THEN CLPVariation IS Maintain\", \n",
    "              \"IF ProcessorLoad IS High THEN CLPVariation IS Decreased\"])\n",
    "\n"
   ]
  },
  {
   "cell_type": "markdown",
   "metadata": {},
   "source": [
    "Plot\n"
   ]
  },
  {
   "cell_type": "code",
   "execution_count": null,
   "metadata": {},
   "outputs": [],
   "source": [
    "xs = []\n",
    "ys = []\n",
    "DIVs = 21\n",
    "for x in np.linspace(0, 1, DIVs):\n",
    "        FS.set_variable(\"ProcessorLoad\", x)\n",
    "        CLP = FS.inference()['CLPVariation']\n",
    "        xs.append(x)\n",
    "        ys.append(CLP)\n",
    "xs = np.array(xs)\n",
    "ys = np.array(ys)\n",
    "plt.figure(figsize=(15, 7))\n",
    "#xx, yy = np.meshgrid(xs, ys)\n",
    "plt.plot(xs, ys)\n",
    "plt.xlabel(\"Processor Load\")\n",
    "plt.ylabel(\"CLP Variation\")\n",
    "plt.title(\"Simpful\", pad=20)\n",
    "plt.show()\n",
    "\n"
   ]
  },
  {
   "cell_type": "code",
   "execution_count": null,
   "metadata": {},
   "outputs": [],
   "source": [
    "xs = []\n",
    "ys = []\n",
    "for i in df['ProcessorLoad']:\n",
    "    print(i, end=\", \")\n",
    "    FS.set_variable(\"ProcessorLoad\", i)\n",
    "    CLP = FS.inference()['CLPVariation']\n",
    "    xs.append(i)\n",
    "    ys.append(CLP)\n",
    "SSE = np.linalg.norm(ys-df['CLPVariation'])**2\n",
    "print(\"\\n\", df.iloc[:, -1].ravel())\n",
    "[print(f\"{i:.4f}\", end=\", \") for i in ys]"
   ]
  }
 ],
 "metadata": {
  "kernelspec": {
   "display_name": "Python 3",
   "language": "python",
   "name": "python3"
  },
  "language_info": {
   "codemirror_mode": {
    "name": "ipython",
    "version": 3
   },
   "file_extension": ".py",
   "mimetype": "text/x-python",
   "name": "python",
   "nbconvert_exporter": "python",
   "pygments_lexer": "ipython3",
   "version": "3.10.8"
  },
  "orig_nbformat": 4
 },
 "nbformat": 4,
 "nbformat_minor": 2
}
