{
 "cells": [
  {
   "cell_type": "code",
   "execution_count": 2,
   "metadata": {},
   "outputs": [],
   "source": [
    "import pandas as pd\n",
    "import numpy as np\n",
    "from simpful import *\n",
    "import matplotlib.pylab as plt\n",
    "from numpy import random\n",
    "from sklearn.model_selection import train_test_split, KFold\n",
    "from sklearn.neural_network import MLPRegressor\n",
    "from sklearn import linear_model\n",
    "from sklearn.model_selection import KFold\n",
    " "
   ]
  },
  {
   "cell_type": "code",
   "execution_count": 3,
   "metadata": {},
   "outputs": [],
   "source": [
    "df = pd.read_csv('Train.csv')\n",
    "colunas = df.columns\n",
    "x = df[colunas[0:4]]\n",
    "y = df[colunas[4]]\n",
    "x_t = x.to_numpy()\n",
    "y_t = y.to_numpy()\n",
    "rand = random.randint(0, 1000000)"
   ]
  },
  {
   "cell_type": "code",
   "execution_count": 10,
   "metadata": {},
   "outputs": [],
   "source": [
    "regr = MLPRegressor(hidden_layer_sizes=(4), max_iter=10000, activation='relu', solver='sgd', learning_rate='adaptive', learning_rate_init=0.01)"
   ]
  },
  {
   "cell_type": "markdown",
   "metadata": {},
   "source": [
    "plt.figure(figsize=(16, 7))\n",
    "for i in range(0,4):\n",
    "    plt.subplot(2, 2, i+1)\n",
    "    for j in range(0,df[colunas[i]].size):\n",
    "        plt.scatter(df[\"CLPVariation\"][j], df[colunas[i]][j])\n",
    "    plt.title(colunas[i])\n",
    "    plt.plot([-1, 1], [0.4, 0.4], 'b--', [-1, 1], [0.8, 0.80], 'r--')\n",
    "    plt.ylim(0, 1.1)\n",
    "plt.show()"
   ]
  },
  {
   "cell_type": "code",
   "execution_count": 11,
   "metadata": {},
   "outputs": [
    {
     "name": "stdout",
     "output_type": "stream",
     "text": [
      "SSE:  77.53813966104039\n",
      "Max: 176.13590510308876\n"
     ]
    }
   ],
   "source": [
    "rand = random.randint(0, 1000000)\n",
    "kf = KFold(n_splits=10, shuffle=True, random_state=rand)\n",
    "Max = []\n",
    "SSE2 = 0\n",
    "for idx_train, idx_teste in kf.split(x_t):\n",
    "    regr.fit(x_t[idx_train], y_t[idx_train])\n",
    "    y_prev = regr.predict(x_t[idx_teste])\n",
    "    SSE = np.linalg.norm(y_prev -  y_t[idx_teste])**2\n",
    "    Max = np.append(Max, SSE)\n",
    "    SSE2 += SSE\n",
    "print(\"SSE: \", SSE2/kf.get_n_splits())\n",
    "print(\"Max:\" , Max.max())"
   ]
  },
  {
   "cell_type": "code",
   "execution_count": 12,
   "metadata": {},
   "outputs": [
    {
     "name": "stdout",
     "output_type": "stream",
     "text": [
      "SSE:  155.56745316709743\n",
      "Score:  0.5540435310446277\n"
     ]
    }
   ],
   "source": [
    "x_train, x_test, y_train, y_test = train_test_split(\n",
    "    x_t, y_t, test_size=0.2, random_state=rand)\n",
    "regr.fit(x_train, y_train)\n",
    "y_prev = regr.predict(x_test)\n",
    "SSE = np.linalg.norm(y_prev - y_test)**2\n",
    "print(\"SSE: \", SSE)\n",
    "print(\"Score: \", regr.score(x_test, y_test))"
   ]
  },
  {
   "cell_type": "code",
   "execution_count": 14,
   "metadata": {},
   "outputs": [
    {
     "data": {
      "text/html": [
       "<div>\n",
       "<style scoped>\n",
       "    .dataframe tbody tr th:only-of-type {\n",
       "        vertical-align: middle;\n",
       "    }\n",
       "\n",
       "    .dataframe tbody tr th {\n",
       "        vertical-align: top;\n",
       "    }\n",
       "\n",
       "    .dataframe thead th {\n",
       "        text-align: right;\n",
       "    }\n",
       "</style>\n",
       "<table border=\"1\" class=\"dataframe\">\n",
       "  <thead>\n",
       "    <tr style=\"text-align: right;\">\n",
       "      <th></th>\n",
       "      <th>ProcessorLoad</th>\n",
       "      <th>MemoryUsage</th>\n",
       "      <th>OutBandwidth</th>\n",
       "      <th>Latency</th>\n",
       "      <th>CLPVariation</th>\n",
       "    </tr>\n",
       "  </thead>\n",
       "  <tbody>\n",
       "    <tr>\n",
       "      <th>ProcessorLoad</th>\n",
       "      <td>1.000000</td>\n",
       "      <td>-0.009946</td>\n",
       "      <td>-0.008874</td>\n",
       "      <td>0.005790</td>\n",
       "      <td>-0.506173</td>\n",
       "    </tr>\n",
       "    <tr>\n",
       "      <th>MemoryUsage</th>\n",
       "      <td>-0.009946</td>\n",
       "      <td>1.000000</td>\n",
       "      <td>0.015705</td>\n",
       "      <td>0.017161</td>\n",
       "      <td>-0.509805</td>\n",
       "    </tr>\n",
       "    <tr>\n",
       "      <th>OutBandwidth</th>\n",
       "      <td>-0.008874</td>\n",
       "      <td>0.015705</td>\n",
       "      <td>1.000000</td>\n",
       "      <td>0.021578</td>\n",
       "      <td>-0.125393</td>\n",
       "    </tr>\n",
       "    <tr>\n",
       "      <th>Latency</th>\n",
       "      <td>0.005790</td>\n",
       "      <td>0.017161</td>\n",
       "      <td>0.021578</td>\n",
       "      <td>1.000000</td>\n",
       "      <td>0.006170</td>\n",
       "    </tr>\n",
       "    <tr>\n",
       "      <th>CLPVariation</th>\n",
       "      <td>-0.506173</td>\n",
       "      <td>-0.509805</td>\n",
       "      <td>-0.125393</td>\n",
       "      <td>0.006170</td>\n",
       "      <td>1.000000</td>\n",
       "    </tr>\n",
       "  </tbody>\n",
       "</table>\n",
       "</div>"
      ],
      "text/plain": [
       "               ProcessorLoad  MemoryUsage  OutBandwidth   Latency  \\\n",
       "ProcessorLoad       1.000000    -0.009946     -0.008874  0.005790   \n",
       "MemoryUsage        -0.009946     1.000000      0.015705  0.017161   \n",
       "OutBandwidth       -0.008874     0.015705      1.000000  0.021578   \n",
       "Latency             0.005790     0.017161      0.021578  1.000000   \n",
       "CLPVariation       -0.506173    -0.509805     -0.125393  0.006170   \n",
       "\n",
       "               CLPVariation  \n",
       "ProcessorLoad     -0.506173  \n",
       "MemoryUsage       -0.509805  \n",
       "OutBandwidth      -0.125393  \n",
       "Latency            0.006170  \n",
       "CLPVariation       1.000000  "
      ]
     },
     "execution_count": 14,
     "metadata": {},
     "output_type": "execute_result"
    }
   ],
   "source": [
    "df.corr()"
   ]
  },
  {
   "cell_type": "code",
   "execution_count": null,
   "metadata": {},
   "outputs": [],
   "source": []
  }
 ],
 "metadata": {
  "kernelspec": {
   "display_name": "Python 3",
   "language": "python",
   "name": "python3"
  },
  "language_info": {
   "codemirror_mode": {
    "name": "ipython",
    "version": 3
   },
   "file_extension": ".py",
   "mimetype": "text/x-python",
   "name": "python",
   "nbconvert_exporter": "python",
   "pygments_lexer": "ipython3",
   "version": "3.10.8"
  }
 },
 "nbformat": 4,
 "nbformat_minor": 2
}
